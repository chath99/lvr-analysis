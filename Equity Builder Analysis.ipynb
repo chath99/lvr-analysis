{
 "cells": [
  {
   "cell_type": "code",
   "execution_count": 209,
   "metadata": {},
   "outputs": [],
   "source": [
    "import pandas as pd\n",
    "import numpy as np\n",
    "import math\n",
    "import seaborn as sb\n",
    "import matplotlib.pyplot as plt"
   ]
  },
  {
   "cell_type": "code",
   "execution_count": 128,
   "metadata": {},
   "outputs": [],
   "source": [
    "annual_rate = 0.039\n",
    "monthly_rate = ((1+annual_rate)**(1/12))-1\n",
    "\n",
    "total_invested = 10000\n",
    "\n",
    "max_monthly_investment = 3000"
   ]
  },
  {
   "cell_type": "code",
   "execution_count": 19,
   "metadata": {},
   "outputs": [
    {
     "name": "stdout",
     "output_type": "stream",
     "text": [
      "{'months': 4, 'interest_paid': 67.33524142885662}\n"
     ]
    }
   ],
   "source": [
    "def amortise(principal, rate, repayment):\n",
    "    remaining = principal\n",
    "    months = 0\n",
    "    interest_paid = 0\n",
    "    while remaining > 0:\n",
    "        if remaining < repayment:\n",
    "            principal_paid = repayment - remaining\n",
    "            remaining = remaining - principal_paid\n",
    "            months = months + 1\n",
    "        else:\n",
    "            interest_paid = interest_paid + remaining*monthly_rate\n",
    "            principal_paid = repayment - remaining*monthly_rate\n",
    "            remaining = remaining - principal_paid\n",
    "            months = months + 1\n",
    "            \n",
    "    amortisation_output = {}\n",
    "    for variable in [\"months\", \"interest_paid\"]:\n",
    "        amortisation_output[variable] = eval(variable)\n",
    "    \n",
    "    return amortisation_output\n",
    "\n",
    "print(amortise(total_invested, monthly_rate, max_monthly_investment))\n",
    "        \n",
    "    "
   ]
  },
  {
   "cell_type": "code",
   "execution_count": 38,
   "metadata": {},
   "outputs": [
    {
     "name": "stdout",
     "output_type": "stream",
     "text": [
      "[0.01065658 0.00372688 0.01368757 0.02183577]\n"
     ]
    }
   ],
   "source": [
    "def random_returns(months):\n",
    "    mean_return = 0.07/12\n",
    "    sd_return = ((1+0.1689)**(1/12))-1\n",
    "    \n",
    "    returns = np.random.normal(loc=mean_return, scale=sd_return, size=months)\n",
    "    \n",
    "    return returns\n",
    "\n",
    "print(random_returns(4))\n",
    "        "
   ]
  },
  {
   "cell_type": "code",
   "execution_count": 132,
   "metadata": {},
   "outputs": [
    {
     "data": {
      "text/plain": [
       "{'months': 4, 'profit': 486.3658578595963}"
      ]
     },
     "execution_count": 132,
     "metadata": {},
     "output_type": "execute_result"
    }
   ],
   "source": [
    "def equity_builder(invested_amount):\n",
    "    months = amortise(invested_amount, monthly_rate, max_monthly_investment)['months']\n",
    "    interest_paid = amortise(invested_amount, monthly_rate, max_monthly_investment)['interest_paid']\n",
    "    returns = random_returns(months)\n",
    "    revenue = sum(returns*invested_amount)\n",
    "    profit = revenue - interest_paid\n",
    "    \n",
    "    equity_builder_output = {}\n",
    "    for variable in [\"months\", \"profit\"]:\n",
    "        equity_builder_output[variable] = eval(variable)\n",
    "    \n",
    "    return equity_builder_output\n",
    "\n",
    "equity_builder(total_invested)\n",
    "    "
   ]
  },
  {
   "cell_type": "code",
   "execution_count": 141,
   "metadata": {},
   "outputs": [
    {
     "name": "stdout",
     "output_type": "stream",
     "text": [
      "{'months': 4, 'profit': 66.81974828715362}\n"
     ]
    }
   ],
   "source": [
    "def no_LVR(invested_amount):\n",
    "    months = math.ceil(invested_amount/max_monthly_investment)\n",
    "    returns = random_returns(months)\n",
    "    month_list = np.array(range(1, months+1))\n",
    "    profit = (invested_amount/months)*sum(returns*month_list)\n",
    "    \n",
    "    no_LVR_output = {}\n",
    "    for variable in [\"months\", \"profit\"]:\n",
    "        no_LVR_output[variable] = eval(variable)\n",
    "    \n",
    "    return no_LVR_output\n",
    "\n",
    "print(no_LVR(total_invested))"
   ]
  },
  {
   "cell_type": "code",
   "execution_count": 153,
   "metadata": {},
   "outputs": [
    {
     "name": "stdout",
     "output_type": "stream",
     "text": [
      "{'months': 4, 'returns': array([0.00217982, 0.0096164 , 0.01229094, 0.00087927]), 'profit_eb': 182.32903396516832, 'profit_noLVR': 154.5062706857883}\n"
     ]
    }
   ],
   "source": [
    "def compare(invested_amount):\n",
    "    months_eb = amortise(invested_amount, monthly_rate, max_monthly_investment)['months']\n",
    "    months_noLVR = math.ceil(invested_amount/max_monthly_investment)\n",
    "    months = max(months_eb, months_noLVR)\n",
    "    \n",
    "    returns = random_returns(months)\n",
    "    \n",
    "    # equity builder\n",
    "    interest_paid = amortise(invested_amount, monthly_rate, max_monthly_investment)['interest_paid']\n",
    "    revenue_eb = sum(returns[:months]*invested_amount)\n",
    "    profit_eb = revenue_eb - interest_paid\n",
    "    \n",
    "    # no LVR\n",
    "    month_list = np.array(range(1, months+1))\n",
    "    profit_noLVR = (invested_amount/months)*sum(returns[:months]*month_list)\n",
    "    \n",
    "    compare_output = {}\n",
    "    for variable in [\"months\", \"returns\", \"profit_eb\", \"profit_noLVR\"]:\n",
    "        compare_output[variable] = eval(variable)\n",
    "    \n",
    "    return compare_output\n",
    "\n",
    "print(compare(total_invested))\n",
    "    \n",
    "    \n",
    "    "
   ]
  },
  {
   "cell_type": "code",
   "execution_count": 196,
   "metadata": {},
   "outputs": [
    {
     "name": "stdout",
     "output_type": "stream",
     "text": [
      "Expected profit, Equity Builder: 160.47993899790907\n",
      "Expected profit, No Leverage: 143.5435648134701\n"
     ]
    }
   ],
   "source": [
    "def monte_carlo(invested_amount, draws):\n",
    "    results = pd.DataFrame(columns = [\"Invested\", \"Equity_Builder\", \"No_LVR\"])\n",
    "    \n",
    "    for sim in range(0,draws):\n",
    "        Invested = invested_amount\n",
    "        comp = compare(invested_amount)\n",
    "        Equity_Builder = comp['profit_eb']\n",
    "        No_LVR = comp['profit_noLVR']\n",
    "        sim_output = {}\n",
    "        for variable in [\"Invested\", \"Equity_Builder\", \"No_LVR\"]:\n",
    "            sim_output[variable] = eval(variable)\n",
    "        \n",
    "        sim_output = pd.DataFrame([sim_output])\n",
    "        results = results.append(sim_output, sort=False)\n",
    "    \n",
    "    results.reset_index(drop=False, inplace=True)\n",
    "        \n",
    "    return(results)\n",
    "\n",
    "sim = monte_carlo(total_invested, draws=1000)\n",
    "print(\"Expected profit, Equity Builder: \" + str(np.average(sim['Equity_Builder'])))\n",
    "print(\"Expected profit, No Leverage: \" + str(np.average(sim['No_LVR'])))"
   ]
  },
  {
   "cell_type": "code",
   "execution_count": 340,
   "metadata": {},
   "outputs": [],
   "source": [
    "def visualise_MC(total_invested, draws):\n",
    "    sim = monte_carlo(total_invested, draws)\n",
    "    index = sim.index\n",
    "    eb = sim['Equity_Builder']\n",
    "    nL = sim['No_LVR']\n",
    "    ratio = eb/nL #when ratio > 1, eb profits > nL profits\n",
    "\n",
    "    fig, ax = plt.subplots(figsize=(12,8))\n",
    "    sb.distplot(eb, bins=100, label=\"Equity Builder\")\n",
    "    sb.distplot(nL, bins=100, label=\"No Leverage\", axlabel=\"Profit ($)\")\n",
    "    ax.legend()\n",
    "    plt.show()\n",
    "\n",
    "    print(\"Expected profit, Equity Builder: $\" + str(np.around(np.average(eb),2)))\n",
    "    print(\"Standard deviation, Equity Builder: $\" + str(np.around(np.std(eb),2)))\n",
    "    print(\"\")\n",
    "    \n",
    "    print(\"Expected profit, No LVR: $\" + str(np.around(np.average(nL),2)))\n",
    "    print(\"Standard deviation, No LVR: $\" + str(np.around(np.std(nL),2)))\n",
    "    print(\"\")\n",
    "\n",
    "    print(\"% difference in expected profit: \"\n",
    "          +str(np.around(100*((np.average(eb)/np.average(nL))-1),2))+\"%\")\n",
    "    print(\"% difference in standard deviation: \"\n",
    "          +str(np.around(100*((np.std(eb)/np.std(nL))-1),2))+\"%\")\n",
    "    \n",
    "    print(\"\")\n",
    "    print(\"Worst case, Equity Builder: \" +str(np.around(min(eb),2)))\n",
    "    print(\"Worst case, No Leverage: \"+str(np.around(min(nL),2)))\n",
    "    \n",
    "    print(\"\")\n",
    "    print(\"Best case, Equity Builder: \" +str(np.around(max(eb),2)))\n",
    "    print(\"Best case, No Leverage: \"+str(np.around(max(nL),2)))"
   ]
  },
  {
   "cell_type": "code",
   "execution_count": 341,
   "metadata": {},
   "outputs": [
    {
     "name": "stdout",
     "output_type": "stream",
     "text": [
      "Months: 6\n"
     ]
    },
    {
     "data": {
      "image/png": "[encoded data removed]",
      "text/plain": [
       "<Figure size 864x576 with 1 Axes>"
      ]
     },
     "metadata": {
      "needs_background": "light"
     },
     "output_type": "display_data"
    },
    {
     "name": "stdout",
     "output_type": "stream",
     "text": [
      "Expected profit, Equity Builder: $386.73\n",
      "Standard deviation, Equity Builder: $476.41\n",
      "\n",
      "Expected profit, No LVR: $309.08\n",
      "Standard deviation, No LVR: $307.81\n",
      "\n",
      "% difference in expected profit: 25.12%\n",
      "% difference in standard deviation: 54.77%\n",
      "\n",
      "Worst case, Equity Builder: -1399.65\n",
      "Worst case, No Leverage: -802.65\n",
      "\n",
      "Best case, Equity Builder: 2118.82\n",
      "Best case, No Leverage: 1389.35\n"
     ]
    }
   ],
   "source": [
    "print(\"Months: \"+str(equity_builder(15000)['months']))\n",
    "visualise_MC(total_invested=15000, draws=10000)\n"
   ]
  }
 ],
 "metadata": {
  "kernelspec": {
   "display_name": "Python 3",
   "language": "python",
   "name": "python3"
  },
  "language_info": {
   "codemirror_mode": {
    "name": "ipython",
    "version": 3
   },
   "file_extension": ".py",
   "mimetype": "text/x-python",
   "name": "python",
   "nbconvert_exporter": "python",
   "pygments_lexer": "ipython3",
   "version": "3.7.3"
  }
 },
 "nbformat": 4,
 "nbformat_minor": 2
}
